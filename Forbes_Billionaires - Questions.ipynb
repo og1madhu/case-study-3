{
 "cells": [
  {
   "cell_type": "markdown",
   "metadata": {},
   "source": [
    "### Import Numpy and Pandas Libraries"
   ]
  },
  {
   "cell_type": "code",
   "execution_count": 1,
   "metadata": {
    "ExecuteTime": {
     "end_time": "2023-11-06T05:07:15.511854Z",
     "start_time": "2023-11-06T05:07:15.506167Z"
    }
   },
   "outputs": [],
   "source": [
    "import numpy as np\n",
    "import pandas as pd\n",
    "import os\n"
   ]
  },
  {
   "cell_type": "markdown",
   "metadata": {},
   "source": [
    "# Q1. Read the '.csv' file into a data frame and display the first 5 rows."
   ]
  },
  {
   "cell_type": "code",
   "execution_count": 2,
   "metadata": {
    "ExecuteTime": {
     "end_time": "2023-11-06T05:07:37.727379Z",
     "start_time": "2023-11-06T05:07:37.683873Z"
    }
   },
   "outputs": [
    {
     "data": {
      "text/html": [
       "<div>\n",
       "<style scoped>\n",
       "    .dataframe tbody tr th:only-of-type {\n",
       "        vertical-align: middle;\n",
       "    }\n",
       "\n",
       "    .dataframe tbody tr th {\n",
       "        vertical-align: top;\n",
       "    }\n",
       "\n",
       "    .dataframe thead th {\n",
       "        text-align: right;\n",
       "    }\n",
       "</style>\n",
       "<table border=\"1\" class=\"dataframe\">\n",
       "  <thead>\n",
       "    <tr style=\"text-align: right;\">\n",
       "      <th></th>\n",
       "      <th>Rank</th>\n",
       "      <th>Name</th>\n",
       "      <th>Age</th>\n",
       "      <th>Net Worth</th>\n",
       "      <th>Country</th>\n",
       "      <th>Source</th>\n",
       "      <th>Industries</th>\n",
       "    </tr>\n",
       "  </thead>\n",
       "  <tbody>\n",
       "    <tr>\n",
       "      <th>0</th>\n",
       "      <td>1</td>\n",
       "      <td>JEFF BEZOS</td>\n",
       "      <td>56.0</td>\n",
       "      <td>113.0</td>\n",
       "      <td>United States</td>\n",
       "      <td>Amazon</td>\n",
       "      <td>Technology</td>\n",
       "    </tr>\n",
       "    <tr>\n",
       "      <th>1</th>\n",
       "      <td>2</td>\n",
       "      <td>BILL GATES</td>\n",
       "      <td>64.0</td>\n",
       "      <td>98.0</td>\n",
       "      <td>United States</td>\n",
       "      <td>Microsoft</td>\n",
       "      <td>Technology</td>\n",
       "    </tr>\n",
       "    <tr>\n",
       "      <th>2</th>\n",
       "      <td>3</td>\n",
       "      <td>BERNARD ARNAULT &amp; FAMILY</td>\n",
       "      <td>71.0</td>\n",
       "      <td>76.0</td>\n",
       "      <td>France</td>\n",
       "      <td>LVMH</td>\n",
       "      <td>Fashion &amp; Retail</td>\n",
       "    </tr>\n",
       "    <tr>\n",
       "      <th>3</th>\n",
       "      <td>4</td>\n",
       "      <td>WARREN BUFFETT</td>\n",
       "      <td>89.0</td>\n",
       "      <td>67.5</td>\n",
       "      <td>United States</td>\n",
       "      <td>Berkshire Hathaway</td>\n",
       "      <td>Finance &amp; Investments</td>\n",
       "    </tr>\n",
       "    <tr>\n",
       "      <th>4</th>\n",
       "      <td>5</td>\n",
       "      <td>LARRY ELLISON</td>\n",
       "      <td>75.0</td>\n",
       "      <td>59.0</td>\n",
       "      <td>United States</td>\n",
       "      <td>software</td>\n",
       "      <td>Technology</td>\n",
       "    </tr>\n",
       "    <tr>\n",
       "      <th>...</th>\n",
       "      <td>...</td>\n",
       "      <td>...</td>\n",
       "      <td>...</td>\n",
       "      <td>...</td>\n",
       "      <td>...</td>\n",
       "      <td>...</td>\n",
       "      <td>...</td>\n",
       "    </tr>\n",
       "    <tr>\n",
       "      <th>2090</th>\n",
       "      <td>1990</td>\n",
       "      <td>DAVID HALL</td>\n",
       "      <td>68.0</td>\n",
       "      <td>1.0</td>\n",
       "      <td>United States</td>\n",
       "      <td>automotive technology</td>\n",
       "      <td>Automotive</td>\n",
       "    </tr>\n",
       "    <tr>\n",
       "      <th>2091</th>\n",
       "      <td>1990</td>\n",
       "      <td>DU SHA</td>\n",
       "      <td>73.0</td>\n",
       "      <td>1.0</td>\n",
       "      <td>China</td>\n",
       "      <td>hypermarkets</td>\n",
       "      <td>Diversified</td>\n",
       "    </tr>\n",
       "    <tr>\n",
       "      <th>2092</th>\n",
       "      <td>1990</td>\n",
       "      <td>WANG YANQING</td>\n",
       "      <td>73.0</td>\n",
       "      <td>1.0</td>\n",
       "      <td>China</td>\n",
       "      <td>carbon fiber products</td>\n",
       "      <td>Manufacturing</td>\n",
       "    </tr>\n",
       "    <tr>\n",
       "      <th>2093</th>\n",
       "      <td>1990</td>\n",
       "      <td>XU WANMAO</td>\n",
       "      <td>75.0</td>\n",
       "      <td>1.0</td>\n",
       "      <td>China</td>\n",
       "      <td>education</td>\n",
       "      <td>Service</td>\n",
       "    </tr>\n",
       "    <tr>\n",
       "      <th>2094</th>\n",
       "      <td>1990</td>\n",
       "      <td>WANG MIAOTONG</td>\n",
       "      <td>62.0</td>\n",
       "      <td>1.0</td>\n",
       "      <td>China</td>\n",
       "      <td>auto parts</td>\n",
       "      <td>Automotive</td>\n",
       "    </tr>\n",
       "  </tbody>\n",
       "</table>\n",
       "<p>2095 rows × 7 columns</p>\n",
       "</div>"
      ],
      "text/plain": [
       "      Rank                      Name   Age  Net Worth        Country  \\\n",
       "0        1                JEFF BEZOS  56.0      113.0  United States   \n",
       "1        2                BILL GATES  64.0       98.0  United States   \n",
       "2        3  BERNARD ARNAULT & FAMILY  71.0       76.0         France   \n",
       "3        4            WARREN BUFFETT  89.0       67.5  United States   \n",
       "4        5             LARRY ELLISON  75.0       59.0  United States   \n",
       "...    ...                       ...   ...        ...            ...   \n",
       "2090  1990                DAVID HALL  68.0        1.0  United States   \n",
       "2091  1990                    DU SHA  73.0        1.0          China   \n",
       "2092  1990              WANG YANQING  73.0        1.0          China   \n",
       "2093  1990                 XU WANMAO  75.0        1.0          China   \n",
       "2094  1990             WANG MIAOTONG  62.0        1.0          China   \n",
       "\n",
       "                     Source             Industries  \n",
       "0                    Amazon             Technology  \n",
       "1                 Microsoft             Technology  \n",
       "2                      LVMH       Fashion & Retail  \n",
       "3        Berkshire Hathaway  Finance & Investments  \n",
       "4                  software             Technology  \n",
       "...                     ...                    ...  \n",
       "2090  automotive technology             Automotive  \n",
       "2091           hypermarkets            Diversified  \n",
       "2092  carbon fiber products          Manufacturing  \n",
       "2093              education                Service  \n",
       "2094             auto parts             Automotive  \n",
       "\n",
       "[2095 rows x 7 columns]"
      ]
     },
     "execution_count": 2,
     "metadata": {},
     "output_type": "execute_result"
    }
   ],
   "source": [
    "df=pd.read_csv('Forbes_Billionaire.csv')\n",
    "df"
   ]
  },
  {
   "cell_type": "code",
   "execution_count": 3,
   "metadata": {
    "ExecuteTime": {
     "end_time": "2023-11-06T05:07:51.637881Z",
     "start_time": "2023-11-06T05:07:51.615996Z"
    }
   },
   "outputs": [
    {
     "data": {
      "text/html": [
       "<div>\n",
       "<style scoped>\n",
       "    .dataframe tbody tr th:only-of-type {\n",
       "        vertical-align: middle;\n",
       "    }\n",
       "\n",
       "    .dataframe tbody tr th {\n",
       "        vertical-align: top;\n",
       "    }\n",
       "\n",
       "    .dataframe thead th {\n",
       "        text-align: right;\n",
       "    }\n",
       "</style>\n",
       "<table border=\"1\" class=\"dataframe\">\n",
       "  <thead>\n",
       "    <tr style=\"text-align: right;\">\n",
       "      <th></th>\n",
       "      <th>Rank</th>\n",
       "      <th>Name</th>\n",
       "      <th>Age</th>\n",
       "      <th>Net Worth</th>\n",
       "      <th>Country</th>\n",
       "      <th>Source</th>\n",
       "      <th>Industries</th>\n",
       "    </tr>\n",
       "  </thead>\n",
       "  <tbody>\n",
       "    <tr>\n",
       "      <th>0</th>\n",
       "      <td>1</td>\n",
       "      <td>JEFF BEZOS</td>\n",
       "      <td>56.0</td>\n",
       "      <td>113.0</td>\n",
       "      <td>United States</td>\n",
       "      <td>Amazon</td>\n",
       "      <td>Technology</td>\n",
       "    </tr>\n",
       "    <tr>\n",
       "      <th>1</th>\n",
       "      <td>2</td>\n",
       "      <td>BILL GATES</td>\n",
       "      <td>64.0</td>\n",
       "      <td>98.0</td>\n",
       "      <td>United States</td>\n",
       "      <td>Microsoft</td>\n",
       "      <td>Technology</td>\n",
       "    </tr>\n",
       "    <tr>\n",
       "      <th>2</th>\n",
       "      <td>3</td>\n",
       "      <td>BERNARD ARNAULT &amp; FAMILY</td>\n",
       "      <td>71.0</td>\n",
       "      <td>76.0</td>\n",
       "      <td>France</td>\n",
       "      <td>LVMH</td>\n",
       "      <td>Fashion &amp; Retail</td>\n",
       "    </tr>\n",
       "    <tr>\n",
       "      <th>3</th>\n",
       "      <td>4</td>\n",
       "      <td>WARREN BUFFETT</td>\n",
       "      <td>89.0</td>\n",
       "      <td>67.5</td>\n",
       "      <td>United States</td>\n",
       "      <td>Berkshire Hathaway</td>\n",
       "      <td>Finance &amp; Investments</td>\n",
       "    </tr>\n",
       "    <tr>\n",
       "      <th>4</th>\n",
       "      <td>5</td>\n",
       "      <td>LARRY ELLISON</td>\n",
       "      <td>75.0</td>\n",
       "      <td>59.0</td>\n",
       "      <td>United States</td>\n",
       "      <td>software</td>\n",
       "      <td>Technology</td>\n",
       "    </tr>\n",
       "  </tbody>\n",
       "</table>\n",
       "</div>"
      ],
      "text/plain": [
       "   Rank                      Name   Age  Net Worth        Country  \\\n",
       "0     1                JEFF BEZOS  56.0      113.0  United States   \n",
       "1     2                BILL GATES  64.0       98.0  United States   \n",
       "2     3  BERNARD ARNAULT & FAMILY  71.0       76.0         France   \n",
       "3     4            WARREN BUFFETT  89.0       67.5  United States   \n",
       "4     5             LARRY ELLISON  75.0       59.0  United States   \n",
       "\n",
       "               Source             Industries  \n",
       "0              Amazon             Technology  \n",
       "1           Microsoft             Technology  \n",
       "2                LVMH       Fashion & Retail  \n",
       "3  Berkshire Hathaway  Finance & Investments  \n",
       "4            software             Technology  "
      ]
     },
     "execution_count": 3,
     "metadata": {},
     "output_type": "execute_result"
    }
   ],
   "source": [
    "df.head()"
   ]
  },
  {
   "cell_type": "markdown",
   "metadata": {},
   "source": [
    "# Q2. Name the top 8 industries with maximum count of billionaires"
   ]
  },
  {
   "cell_type": "code",
   "execution_count": 4,
   "metadata": {
    "ExecuteTime": {
     "end_time": "2023-11-06T05:11:49.300343Z",
     "start_time": "2023-11-06T05:11:49.290409Z"
    }
   },
   "outputs": [
    {
     "data": {
      "text/plain": [
       "['Finance & Investments',\n",
       " 'Technology',\n",
       " 'Fashion & Retail',\n",
       " 'Manufacturing',\n",
       " 'Real Estate',\n",
       " 'Diversified',\n",
       " 'Food & Beverage',\n",
       " 'Healthcare']"
      ]
     },
     "execution_count": 4,
     "metadata": {},
     "output_type": "execute_result"
    }
   ],
   "source": [
    "top8 = list(df['Industries'].value_counts().head(8).index)\n",
    "top8"
   ]
  },
  {
   "cell_type": "markdown",
   "metadata": {},
   "source": [
    "# Q3. State the headcount of billionaires from these top 8 industries"
   ]
  },
  {
   "cell_type": "code",
   "execution_count": 5,
   "metadata": {},
   "outputs": [
    {
     "data": {
      "text/plain": [
       "Industries\n",
       "Manufacturing            2.730303\n",
       "Healthcare               2.857047\n",
       "Real Estate              3.277551\n",
       "Diversified              3.293491\n",
       "Finance & Investments    3.430201\n",
       "Food & Beverage          3.708333\n",
       "Fashion & Retail         5.372727\n",
       "Technology               5.634440\n",
       "Name: Net Worth, dtype: float64"
      ]
     },
     "execution_count": 5,
     "metadata": {},
     "output_type": "execute_result"
    }
   ],
   "source": [
    "df[df['Industries'].isin(top8)].groupby('Industries')['Net Worth'].mean().sort_values()"
   ]
  },
  {
   "cell_type": "markdown",
   "metadata": {},
   "source": [
    "# Q4. Compare the mean of net worth of billionaires from these top 8 industries."
   ]
  },
  {
   "cell_type": "code",
   "execution_count": 6,
   "metadata": {
    "ExecuteTime": {
     "end_time": "2023-11-06T05:16:00.590607Z",
     "start_time": "2023-11-06T05:16:00.576996Z"
    }
   },
   "outputs": [
    {
     "data": {
      "text/plain": [
       "Industries\n",
       "Manufacturing            2.730303\n",
       "Healthcare               2.857047\n",
       "Real Estate              3.277551\n",
       "Diversified              3.293491\n",
       "Finance & Investments    3.430201\n",
       "Food & Beverage          3.708333\n",
       "Fashion & Retail         5.372727\n",
       "Technology               5.634440\n",
       "Name: Net Worth, dtype: float64"
      ]
     },
     "execution_count": 6,
     "metadata": {},
     "output_type": "execute_result"
    }
   ],
   "source": [
    "df[df['Industries'].isin(top8)].groupby('Industries')['Net Worth'].mean().sort_values()"
   ]
  },
  {
   "cell_type": "code",
   "execution_count": null,
   "metadata": {},
   "outputs": [],
   "source": []
  },
  {
   "cell_type": "markdown",
   "metadata": {},
   "source": [
    "# Q5. Compare the mean age of billionaires from these top 8 industries."
   ]
  },
  {
   "cell_type": "code",
   "execution_count": 7,
   "metadata": {},
   "outputs": [
    {
     "data": {
      "text/plain": [
       "Industries\n",
       "Technology               55.375527\n",
       "Healthcare               63.088435\n",
       "Manufacturing            64.139896\n",
       "Food & Beverage          64.862500\n",
       "Finance & Investments    65.810811\n",
       "Real Estate              65.895288\n",
       "Diversified              66.889571\n",
       "Fashion & Retail         66.893204\n",
       "Name: Age, dtype: float64"
      ]
     },
     "execution_count": 7,
     "metadata": {},
     "output_type": "execute_result"
    }
   ],
   "source": [
    "\n",
    "filtered_df = df[df['Industries'].isin(top8)]\n",
    "\n",
    "\n",
    "mean_age_by_industry = filtered_df.groupby('Industries')['Age'].mean().sort_values()\n",
    "\n",
    "mean_age_by_industry\n"
   ]
  },
  {
   "cell_type": "markdown",
   "metadata": {},
   "source": [
    "# Q6. Name the Richest billionaire in the Automotive sector"
   ]
  },
  {
   "cell_type": "code",
   "execution_count": 18,
   "metadata": {
    "ExecuteTime": {
     "end_time": "2023-11-06T05:16:08.452192Z",
     "start_time": "2023-11-06T05:16:08.432628Z"
    }
   },
   "outputs": [
    {
     "data": {
      "text/plain": [
       "30    ELON MUSK\n",
       "Name: Name, dtype: object"
      ]
     },
     "execution_count": 18,
     "metadata": {},
     "output_type": "execute_result"
    }
   ],
   "source": [
    "df.query('Industries == \"Automotive\"').sort_values('Net Worth',ascending=False).head(1)['Name']"
   ]
  },
  {
   "cell_type": "code",
   "execution_count": null,
   "metadata": {},
   "outputs": [],
   "source": []
  },
  {
   "cell_type": "markdown",
   "metadata": {},
   "source": [
    "# Q7. Name top 5 countries with maximum number of billionaires."
   ]
  },
  {
   "cell_type": "code",
   "execution_count": 12,
   "metadata": {
    "ExecuteTime": {
     "end_time": "2023-11-06T05:11:35.442809Z",
     "start_time": "2023-11-06T05:11:35.430543Z"
    }
   },
   "outputs": [
    {
     "data": {
      "text/plain": [
       "['United States', 'China', 'Germany', 'India', 'Russia']"
      ]
     },
     "execution_count": 12,
     "metadata": {},
     "output_type": "execute_result"
    }
   ],
   "source": [
    "top5 = list(df['Country'].value_counts().head(5).index)\n",
    "top5"
   ]
  },
  {
   "cell_type": "code",
   "execution_count": null,
   "metadata": {},
   "outputs": [],
   "source": []
  },
  {
   "cell_type": "markdown",
   "metadata": {},
   "source": [
    "# Q8. Which amongst these top 5 countries have the lowest mean age of billionaires ?"
   ]
  },
  {
   "cell_type": "code",
   "execution_count": 14,
   "metadata": {
    "ExecuteTime": {
     "end_time": "2023-11-06T05:13:38.117262Z",
     "start_time": "2023-11-06T05:13:38.100620Z"
    }
   },
   "outputs": [
    {
     "data": {
      "text/plain": [
       "Country\n",
       "China            56.790026\n",
       "Russia           56.848485\n",
       "Germany          64.147368\n",
       "India            66.206186\n",
       "United States    66.911620\n",
       "Name: Age, dtype: float64"
      ]
     },
     "execution_count": 14,
     "metadata": {},
     "output_type": "execute_result"
    }
   ],
   "source": [
    "df[df['Country'].isin(top5)].groupby('Country')['Age'].mean().sort_values()"
   ]
  },
  {
   "cell_type": "code",
   "execution_count": null,
   "metadata": {},
   "outputs": [],
   "source": []
  },
  {
   "cell_type": "markdown",
   "metadata": {},
   "source": [
    "# Q9. Name the richest Chinese billionaire and his net worth"
   ]
  },
  {
   "cell_type": "code",
   "execution_count": 16,
   "metadata": {
    "ExecuteTime": {
     "end_time": "2023-11-06T05:15:51.136045Z",
     "start_time": "2023-11-06T05:15:51.117492Z"
    }
   },
   "outputs": [
    {
     "data": {
      "text/html": [
       "<div>\n",
       "<style scoped>\n",
       "    .dataframe tbody tr th:only-of-type {\n",
       "        vertical-align: middle;\n",
       "    }\n",
       "\n",
       "    .dataframe tbody tr th {\n",
       "        vertical-align: top;\n",
       "    }\n",
       "\n",
       "    .dataframe thead th {\n",
       "        text-align: right;\n",
       "    }\n",
       "</style>\n",
       "<table border=\"1\" class=\"dataframe\">\n",
       "  <thead>\n",
       "    <tr style=\"text-align: right;\">\n",
       "      <th></th>\n",
       "      <th>Name</th>\n",
       "      <th>Net Worth</th>\n",
       "    </tr>\n",
       "  </thead>\n",
       "  <tbody>\n",
       "    <tr>\n",
       "      <th>16</th>\n",
       "      <td>JACK MA</td>\n",
       "      <td>38.8</td>\n",
       "    </tr>\n",
       "  </tbody>\n",
       "</table>\n",
       "</div>"
      ],
      "text/plain": [
       "       Name  Net Worth\n",
       "16  JACK MA       38.8"
      ]
     },
     "execution_count": 16,
     "metadata": {},
     "output_type": "execute_result"
    }
   ],
   "source": [
    "df.query('Country ==\"China\"').head(1)[['Name','Net Worth']]"
   ]
  },
  {
   "cell_type": "markdown",
   "metadata": {},
   "source": [
    "# Q10. Name top 5 Industries with maximum number of Indian billionaires."
   ]
  },
  {
   "cell_type": "code",
   "execution_count": 20,
   "metadata": {
    "ExecuteTime": {
     "end_time": "2023-11-06T05:18:14.761461Z",
     "start_time": "2023-11-06T05:18:14.747420Z"
    }
   },
   "outputs": [
    {
     "data": {
      "text/plain": [
       "['Healthcare', 'Manufacturing', 'Diversified', 'Technology', 'Food & Beverage']"
      ]
     },
     "execution_count": 20,
     "metadata": {},
     "output_type": "execute_result"
    }
   ],
   "source": [
    "top5_India = list(df.query('Country == \"India\"')['Industries'].value_counts().head().index)\n",
    "top5_India"
   ]
  },
  {
   "cell_type": "code",
   "execution_count": null,
   "metadata": {},
   "outputs": [],
   "source": []
  },
  {
   "cell_type": "markdown",
   "metadata": {},
   "source": [
    "# Q11. Name all the Indian billionaires in global top 100 list."
   ]
  },
  {
   "cell_type": "code",
   "execution_count": 21,
   "metadata": {
    "ExecuteTime": {
     "end_time": "2023-11-06T05:19:25.366433Z",
     "start_time": "2023-11-06T05:19:25.338883Z"
    }
   },
   "outputs": [
    {
     "data": {
      "text/html": [
       "<div>\n",
       "<style scoped>\n",
       "    .dataframe tbody tr th:only-of-type {\n",
       "        vertical-align: middle;\n",
       "    }\n",
       "\n",
       "    .dataframe tbody tr th {\n",
       "        vertical-align: top;\n",
       "    }\n",
       "\n",
       "    .dataframe thead th {\n",
       "        text-align: right;\n",
       "    }\n",
       "</style>\n",
       "<table border=\"1\" class=\"dataframe\">\n",
       "  <thead>\n",
       "    <tr style=\"text-align: right;\">\n",
       "      <th></th>\n",
       "      <th>Rank</th>\n",
       "      <th>Name</th>\n",
       "      <th>Age</th>\n",
       "      <th>Net Worth</th>\n",
       "      <th>Country</th>\n",
       "      <th>Source</th>\n",
       "      <th>Industries</th>\n",
       "    </tr>\n",
       "  </thead>\n",
       "  <tbody>\n",
       "    <tr>\n",
       "      <th>20</th>\n",
       "      <td>21</td>\n",
       "      <td>MUKESH AMBANI</td>\n",
       "      <td>62.0</td>\n",
       "      <td>36.8</td>\n",
       "      <td>India</td>\n",
       "      <td>petrochemicals, oil &amp; gas</td>\n",
       "      <td>Energy</td>\n",
       "    </tr>\n",
       "    <tr>\n",
       "      <th>77</th>\n",
       "      <td>78</td>\n",
       "      <td>RADHAKISHAN DAMANI &amp; FAMILY</td>\n",
       "      <td>65.0</td>\n",
       "      <td>13.8</td>\n",
       "      <td>India</td>\n",
       "      <td>retail, investments</td>\n",
       "      <td>Fashion &amp; Retail</td>\n",
       "    </tr>\n",
       "  </tbody>\n",
       "</table>\n",
       "</div>"
      ],
      "text/plain": [
       "    Rank                         Name   Age  Net Worth Country  \\\n",
       "20    21                MUKESH AMBANI  62.0       36.8   India   \n",
       "77    78  RADHAKISHAN DAMANI & FAMILY  65.0       13.8   India   \n",
       "\n",
       "                       Source        Industries  \n",
       "20  petrochemicals, oil & gas            Energy  \n",
       "77        retail, investments  Fashion & Retail  "
      ]
     },
     "execution_count": 21,
     "metadata": {},
     "output_type": "execute_result"
    }
   ],
   "source": [
    "df.query('Country == \"India\" and Rank<101')"
   ]
  },
  {
   "cell_type": "code",
   "execution_count": null,
   "metadata": {},
   "outputs": [],
   "source": []
  },
  {
   "cell_type": "markdown",
   "metadata": {},
   "source": [
    "# Q12. Name all the billionaires in India who are younger than 50 years. Also state their mean net worth"
   ]
  },
  {
   "cell_type": "code",
   "execution_count": 22,
   "metadata": {
    "ExecuteTime": {
     "end_time": "2023-11-06T05:21:00.858148Z",
     "start_time": "2023-11-06T05:21:00.834799Z"
    }
   },
   "outputs": [
    {
     "data": {
      "text/html": [
       "<div>\n",
       "<style scoped>\n",
       "    .dataframe tbody tr th:only-of-type {\n",
       "        vertical-align: middle;\n",
       "    }\n",
       "\n",
       "    .dataframe tbody tr th {\n",
       "        vertical-align: top;\n",
       "    }\n",
       "\n",
       "    .dataframe thead th {\n",
       "        text-align: right;\n",
       "    }\n",
       "</style>\n",
       "<table border=\"1\" class=\"dataframe\">\n",
       "  <thead>\n",
       "    <tr style=\"text-align: right;\">\n",
       "      <th></th>\n",
       "      <th>Rank</th>\n",
       "      <th>Name</th>\n",
       "      <th>Age</th>\n",
       "      <th>Net Worth</th>\n",
       "      <th>Country</th>\n",
       "      <th>Source</th>\n",
       "      <th>Industries</th>\n",
       "    </tr>\n",
       "  </thead>\n",
       "  <tbody>\n",
       "    <tr>\n",
       "      <th>874</th>\n",
       "      <td>875</td>\n",
       "      <td>VIJAY SHEKHAR SHARMA</td>\n",
       "      <td>41.0</td>\n",
       "      <td>2.4</td>\n",
       "      <td>India</td>\n",
       "      <td>financial technology</td>\n",
       "      <td>Service</td>\n",
       "    </tr>\n",
       "    <tr>\n",
       "      <th>1196</th>\n",
       "      <td>1196</td>\n",
       "      <td>BYJU RAVEENDRAN</td>\n",
       "      <td>38.0</td>\n",
       "      <td>1.8</td>\n",
       "      <td>India</td>\n",
       "      <td>education technology</td>\n",
       "      <td>Technology</td>\n",
       "    </tr>\n",
       "    <tr>\n",
       "      <th>1237</th>\n",
       "      <td>1196</td>\n",
       "      <td>VIKAS OBEROI</td>\n",
       "      <td>49.0</td>\n",
       "      <td>1.8</td>\n",
       "      <td>India</td>\n",
       "      <td>real estate</td>\n",
       "      <td>Real Estate</td>\n",
       "    </tr>\n",
       "    <tr>\n",
       "      <th>1420</th>\n",
       "      <td>1415</td>\n",
       "      <td>RANJAN PAI</td>\n",
       "      <td>47.0</td>\n",
       "      <td>1.5</td>\n",
       "      <td>India</td>\n",
       "      <td>education</td>\n",
       "      <td>Service</td>\n",
       "    </tr>\n",
       "    <tr>\n",
       "      <th>1618</th>\n",
       "      <td>1613</td>\n",
       "      <td>SHAMSHEER VAYALIL</td>\n",
       "      <td>43.0</td>\n",
       "      <td>1.3</td>\n",
       "      <td>India</td>\n",
       "      <td>healthcare</td>\n",
       "      <td>Healthcare</td>\n",
       "    </tr>\n",
       "    <tr>\n",
       "      <th>1732</th>\n",
       "      <td>1730</td>\n",
       "      <td>SACHIN BANSAL</td>\n",
       "      <td>38.0</td>\n",
       "      <td>1.2</td>\n",
       "      <td>India</td>\n",
       "      <td>flipkart</td>\n",
       "      <td>Fashion &amp; Retail</td>\n",
       "    </tr>\n",
       "    <tr>\n",
       "      <th>1742</th>\n",
       "      <td>1730</td>\n",
       "      <td>RADHA VEMBU</td>\n",
       "      <td>47.0</td>\n",
       "      <td>1.2</td>\n",
       "      <td>India</td>\n",
       "      <td>technology</td>\n",
       "      <td>Technology</td>\n",
       "    </tr>\n",
       "    <tr>\n",
       "      <th>1856</th>\n",
       "      <td>1851</td>\n",
       "      <td>BINNY BANSAL</td>\n",
       "      <td>37.0</td>\n",
       "      <td>1.1</td>\n",
       "      <td>India</td>\n",
       "      <td>flipkart</td>\n",
       "      <td>Technology</td>\n",
       "    </tr>\n",
       "    <tr>\n",
       "      <th>1867</th>\n",
       "      <td>1851</td>\n",
       "      <td>ACHARYA BALKRISHNA</td>\n",
       "      <td>47.0</td>\n",
       "      <td>1.1</td>\n",
       "      <td>India</td>\n",
       "      <td>consumer goods</td>\n",
       "      <td>Food &amp; Beverage</td>\n",
       "    </tr>\n",
       "  </tbody>\n",
       "</table>\n",
       "</div>"
      ],
      "text/plain": [
       "      Rank                  Name   Age  Net Worth Country  \\\n",
       "874    875  VIJAY SHEKHAR SHARMA  41.0        2.4   India   \n",
       "1196  1196       BYJU RAVEENDRAN  38.0        1.8   India   \n",
       "1237  1196          VIKAS OBEROI  49.0        1.8   India   \n",
       "1420  1415            RANJAN PAI  47.0        1.5   India   \n",
       "1618  1613     SHAMSHEER VAYALIL  43.0        1.3   India   \n",
       "1732  1730         SACHIN BANSAL  38.0        1.2   India   \n",
       "1742  1730           RADHA VEMBU  47.0        1.2   India   \n",
       "1856  1851          BINNY BANSAL  37.0        1.1   India   \n",
       "1867  1851    ACHARYA BALKRISHNA  47.0        1.1   India   \n",
       "\n",
       "                    Source        Industries  \n",
       "874   financial technology           Service  \n",
       "1196  education technology        Technology  \n",
       "1237           real estate       Real Estate  \n",
       "1420             education           Service  \n",
       "1618            healthcare        Healthcare  \n",
       "1732              flipkart  Fashion & Retail  \n",
       "1742            technology        Technology  \n",
       "1856              flipkart        Technology  \n",
       "1867        consumer goods   Food & Beverage  "
      ]
     },
     "execution_count": 22,
     "metadata": {},
     "output_type": "execute_result"
    }
   ],
   "source": [
    "df.query('Country == \"India\" and Age<50')"
   ]
  },
  {
   "cell_type": "code",
   "execution_count": 24,
   "metadata": {
    "ExecuteTime": {
     "end_time": "2023-11-06T05:21:37.066696Z",
     "start_time": "2023-11-06T05:21:37.055270Z"
    }
   },
   "outputs": [
    {
     "data": {
      "text/plain": [
       "1.488888888888889"
      ]
     },
     "execution_count": 24,
     "metadata": {},
     "output_type": "execute_result"
    }
   ],
   "source": [
    "df.query('Country == \"India\" and Age<50')['Net Worth'].mean()"
   ]
  },
  {
   "cell_type": "markdown",
   "metadata": {},
   "source": [
    "# Q13. Name the Indian billionaires from real estate sector who are richer than 'DONALD TRUMP'."
   ]
  },
  {
   "cell_type": "code",
   "execution_count": 36,
   "metadata": {
    "ExecuteTime": {
     "end_time": "2023-11-06T05:27:42.658654Z",
     "start_time": "2023-11-06T05:27:42.635634Z"
    }
   },
   "outputs": [
    {
     "data": {
      "text/html": [
       "<div>\n",
       "<style scoped>\n",
       "    .dataframe tbody tr th:only-of-type {\n",
       "        vertical-align: middle;\n",
       "    }\n",
       "\n",
       "    .dataframe tbody tr th {\n",
       "        vertical-align: top;\n",
       "    }\n",
       "\n",
       "    .dataframe thead th {\n",
       "        text-align: right;\n",
       "    }\n",
       "</style>\n",
       "<table border=\"1\" class=\"dataframe\">\n",
       "  <thead>\n",
       "    <tr style=\"text-align: right;\">\n",
       "      <th></th>\n",
       "      <th>Rank</th>\n",
       "      <th>Name</th>\n",
       "      <th>Age</th>\n",
       "      <th>Net Worth</th>\n",
       "      <th>Country</th>\n",
       "      <th>Source</th>\n",
       "      <th>Industries</th>\n",
       "    </tr>\n",
       "  </thead>\n",
       "  <tbody>\n",
       "    <tr>\n",
       "      <th>494</th>\n",
       "      <td>494</td>\n",
       "      <td>KUSHAL PAL SINGH</td>\n",
       "      <td>88.0</td>\n",
       "      <td>3.7</td>\n",
       "      <td>India</td>\n",
       "      <td>real estate</td>\n",
       "      <td>Real Estate</td>\n",
       "    </tr>\n",
       "    <tr>\n",
       "      <th>774</th>\n",
       "      <td>764</td>\n",
       "      <td>CHANDRU RAHEJA</td>\n",
       "      <td>79.0</td>\n",
       "      <td>2.7</td>\n",
       "      <td>India</td>\n",
       "      <td>real estate</td>\n",
       "      <td>Real Estate</td>\n",
       "    </tr>\n",
       "    <tr>\n",
       "      <th>1237</th>\n",
       "      <td>1196</td>\n",
       "      <td>VIKAS OBEROI</td>\n",
       "      <td>49.0</td>\n",
       "      <td>1.8</td>\n",
       "      <td>India</td>\n",
       "      <td>real estate</td>\n",
       "      <td>Real Estate</td>\n",
       "    </tr>\n",
       "    <tr>\n",
       "      <th>1253</th>\n",
       "      <td>1196</td>\n",
       "      <td>MANGAL PRABHAT LODHA</td>\n",
       "      <td>64.0</td>\n",
       "      <td>1.8</td>\n",
       "      <td>India</td>\n",
       "      <td>real estate</td>\n",
       "      <td>Real Estate</td>\n",
       "    </tr>\n",
       "    <tr>\n",
       "      <th>1395</th>\n",
       "      <td>1335</td>\n",
       "      <td>JITENDRA VIRWANI</td>\n",
       "      <td>54.0</td>\n",
       "      <td>1.6</td>\n",
       "      <td>India</td>\n",
       "      <td>real estate</td>\n",
       "      <td>Real Estate</td>\n",
       "    </tr>\n",
       "    <tr>\n",
       "      <th>1712</th>\n",
       "      <td>1613</td>\n",
       "      <td>NIRANJAN HIRANANDANI</td>\n",
       "      <td>70.0</td>\n",
       "      <td>1.3</td>\n",
       "      <td>India</td>\n",
       "      <td>real estate</td>\n",
       "      <td>Real Estate</td>\n",
       "    </tr>\n",
       "    <tr>\n",
       "      <th>1716</th>\n",
       "      <td>1613</td>\n",
       "      <td>SUBHASH RUNWAL</td>\n",
       "      <td>76.0</td>\n",
       "      <td>1.3</td>\n",
       "      <td>India</td>\n",
       "      <td>real estate</td>\n",
       "      <td>Real Estate</td>\n",
       "    </tr>\n",
       "    <tr>\n",
       "      <th>1983</th>\n",
       "      <td>1851</td>\n",
       "      <td>MOFATRAJ MUNOT</td>\n",
       "      <td>75.0</td>\n",
       "      <td>1.1</td>\n",
       "      <td>India</td>\n",
       "      <td>real estate</td>\n",
       "      <td>Real Estate</td>\n",
       "    </tr>\n",
       "  </tbody>\n",
       "</table>\n",
       "</div>"
      ],
      "text/plain": [
       "      Rank                  Name   Age  Net Worth Country       Source  \\\n",
       "494    494      KUSHAL PAL SINGH  88.0        3.7   India  real estate   \n",
       "774    764        CHANDRU RAHEJA  79.0        2.7   India  real estate   \n",
       "1237  1196          VIKAS OBEROI  49.0        1.8   India  real estate   \n",
       "1253  1196  MANGAL PRABHAT LODHA  64.0        1.8   India  real estate   \n",
       "1395  1335      JITENDRA VIRWANI  54.0        1.6   India  real estate   \n",
       "1712  1613  NIRANJAN HIRANANDANI  70.0        1.3   India  real estate   \n",
       "1716  1613        SUBHASH RUNWAL  76.0        1.3   India  real estate   \n",
       "1983  1851        MOFATRAJ MUNOT  75.0        1.1   India  real estate   \n",
       "\n",
       "       Industries  \n",
       "494   Real Estate  \n",
       "774   Real Estate  \n",
       "1237  Real Estate  \n",
       "1253  Real Estate  \n",
       "1395  Real Estate  \n",
       "1712  Real Estate  \n",
       "1716  Real Estate  \n",
       "1983  Real Estate  "
      ]
     },
     "execution_count": 36,
     "metadata": {},
     "output_type": "execute_result"
    }
   ],
   "source": [
    "india_real_estate=df.query('Country == \"India\" and Industries ==\"Real Estate\"')\n",
    "india_real_estate"
   ]
  },
  {
   "cell_type": "code",
   "execution_count": 39,
   "metadata": {
    "ExecuteTime": {
     "end_time": "2023-11-06T05:28:57.768780Z",
     "start_time": "2023-11-06T05:28:57.754642Z"
    }
   },
   "outputs": [
    {
     "data": {
      "text/plain": [
       "2.1"
      ]
     },
     "execution_count": 39,
     "metadata": {},
     "output_type": "execute_result"
    }
   ],
   "source": [
    "networth_donaltrump=df.query('Name == \"DONALD TRUMP\"')['Net Worth'].values[0]\n",
    "networth_donaltrump"
   ]
  },
  {
   "cell_type": "code",
   "execution_count": 34,
   "metadata": {
    "ExecuteTime": {
     "end_time": "2023-11-06T05:26:57.713219Z",
     "start_time": "2023-11-06T05:26:57.697097Z"
    }
   },
   "outputs": [
    {
     "data": {
      "text/plain": [
       "2.1"
      ]
     },
     "execution_count": 34,
     "metadata": {},
     "output_type": "execute_result"
    }
   ],
   "source": [
    "df.query('Name == \"DONALD TRUMP\"')['Net Worth'].sum()"
   ]
  },
  {
   "cell_type": "code",
   "execution_count": null,
   "metadata": {},
   "outputs": [],
   "source": []
  },
  {
   "cell_type": "markdown",
   "metadata": {},
   "source": [
    "# Q14. What is the total cumulative net worth of all the billionaires?"
   ]
  },
  {
   "cell_type": "code",
   "execution_count": 40,
   "metadata": {
    "ExecuteTime": {
     "end_time": "2023-11-06T05:32:04.567956Z",
     "start_time": "2023-11-06T05:32:04.559914Z"
    }
   },
   "outputs": [
    {
     "data": {
      "text/plain": [
       "8037.499999999999"
      ]
     },
     "execution_count": 40,
     "metadata": {},
     "output_type": "execute_result"
    }
   ],
   "source": [
    "df['Net Worth'].sum()"
   ]
  },
  {
   "cell_type": "code",
   "execution_count": 41,
   "metadata": {
    "ExecuteTime": {
     "end_time": "2023-11-06T05:32:19.765416Z",
     "start_time": "2023-11-06T05:32:19.750057Z"
    }
   },
   "outputs": [
    {
     "data": {
      "text/plain": [
       "0        113.0\n",
       "1        211.0\n",
       "2        287.0\n",
       "3        354.5\n",
       "4        413.5\n",
       "         ...  \n",
       "2090    8033.5\n",
       "2091    8034.5\n",
       "2092    8035.5\n",
       "2093    8036.5\n",
       "2094    8037.5\n",
       "Name: Net Worth, Length: 2095, dtype: float64"
      ]
     },
     "execution_count": 41,
     "metadata": {},
     "output_type": "execute_result"
    }
   ],
   "source": [
    "df['Net Worth'].cumsum()  # to calculate running totals"
   ]
  },
  {
   "cell_type": "markdown",
   "metadata": {},
   "source": [
    "# END"
   ]
  }
 ],
 "metadata": {
  "kernelspec": {
   "display_name": "Python 3 (ipykernel)",
   "language": "python",
   "name": "python3"
  },
  "language_info": {
   "codemirror_mode": {
    "name": "ipython",
    "version": 3
   },
   "file_extension": ".py",
   "mimetype": "text/x-python",
   "name": "python",
   "nbconvert_exporter": "python",
   "pygments_lexer": "ipython3",
   "version": "3.11.5"
  },
  "latex_envs": {
   "LaTeX_envs_menu_present": true,
   "autoclose": false,
   "autocomplete": true,
   "bibliofile": "biblio.bib",
   "cite_by": "apalike",
   "current_citInitial": 1,
   "eqLabelWithNumbers": true,
   "eqNumInitial": 1,
   "hotkeys": {
    "equation": "Ctrl-E",
    "itemize": "Ctrl-I"
   },
   "labels_anchors": false,
   "latex_user_defs": false,
   "report_style_numbering": false,
   "user_envs_cfg": false
  },
  "toc": {
   "base_numbering": 1,
   "nav_menu": {},
   "number_sections": true,
   "sideBar": true,
   "skip_h1_title": false,
   "title_cell": "Table of Contents",
   "title_sidebar": "Contents",
   "toc_cell": false,
   "toc_position": {},
   "toc_section_display": true,
   "toc_window_display": true
  },
  "varInspector": {
   "cols": {
    "lenName": 16,
    "lenType": 16,
    "lenVar": 40
   },
   "kernels_config": {
    "python": {
     "delete_cmd_postfix": "",
     "delete_cmd_prefix": "del ",
     "library": "var_list.py",
     "varRefreshCmd": "print(var_dic_list())"
    },
    "r": {
     "delete_cmd_postfix": ") ",
     "delete_cmd_prefix": "rm(",
     "library": "var_list.r",
     "varRefreshCmd": "cat(var_dic_list()) "
    }
   },
   "types_to_exclude": [
    "module",
    "function",
    "builtin_function_or_method",
    "instance",
    "_Feature"
   ],
   "window_display": false
  }
 },
 "nbformat": 4,
 "nbformat_minor": 4
}
